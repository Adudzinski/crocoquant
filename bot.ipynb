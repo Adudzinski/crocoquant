{
 "cells": [
  {
   "cell_type": "code",
   "execution_count": 1,
   "id": "8617d72c-b56b-4b9a-828a-8bc86c6c0bcb",
   "metadata": {},
   "outputs": [],
   "source": [
    "import os\n",
    "import time\n",
    "import numpy as np\n",
    "import pandas as pd\n",
    "from datetime import datetime\n",
    "import threading\n",
    "from typing import Dict, Optional\n",
    "import warnings\n",
    "warnings.filterwarnings(\"ignore\")\n",
    "from dotenv import load_dotenv\n",
    "\n",
    "from ibapi.client import EClient\n",
    "from ibapi.wrapper import EWrapper\n",
    "from ibapi.contract import Contract\n",
    "from ibapi.order import Order\n",
    "from ibapi.common import BarData\n",
    "from ib_insync import *\n",
    "\n",
    "import vectorbt as vbt\n",
    "\n",
    "# Load environment variables from .env file\n",
    "load_dotenv() #Comment out if default localhost IP is sufficient\n",
    "# Get IP from .env or use default\n",
    "IB_IP = os.getenv(\"IB_IP\", \"127.0.0.1\")"
   ]
  },
  {
   "cell_type": "code",
   "execution_count": 2,
   "id": "fc86de58-bd62-4011-b8be-58072af7a091",
   "metadata": {},
   "outputs": [],
   "source": [
    "class TradingApp(EClient, EWrapper):\n",
    "\n",
    "    def __init__(self) -> None:\n",
    "        EClient.__init__(self, self)\n",
    "        self.data: Dict[int, pd.Dataframe] = {}\n",
    "\n",
    "    def error(self, reqId: int, errorCode: int, errorString: str, advanced: dict ={}):# -> None:\n",
    "        print(f\"Error: {reqId}, {errorCode}, {errorString}\")\n",
    "\n",
    "    def nextValidId(self, orderId: int) -> None:\n",
    "        super().nextValidId(orderId)\n",
    "        self.nextOrderId = orderId\n",
    "\n",
    "    def get_historical_data(self, reqId: int, contract: Contract) -> pd.DataFrame:\n",
    "        self.data[reqId] = pd.DataFrame(columns=[\"time\", \"high\", \"low\", \"close\"])\n",
    "        self.data[reqId].set_index(\"time\", inplace=True)\n",
    "        self.reqHistoricalData(\n",
    "            reqId=reqId,\n",
    "            contract=contract,\n",
    "            endDateTime=\"\",\n",
    "            durationStr=\"1 D\",\n",
    "            barSizeSetting=\"1 min\",\n",
    "            whatToShow=\"MIDPOINT\",\n",
    "            useRTH=0,\n",
    "            formatDate=2,\n",
    "            keepUpToDate=False,\n",
    "            chartOptions=[],\n",
    "        )\n",
    "        time.sleep(5)\n",
    "        return self.data[reqId]\n",
    "\n",
    "    def historicalData(self, reqId: int, bar: BarData) -> None:\n",
    "        df = self.data[reqId]\n",
    "        df.loc[\n",
    "            pd.to_datetime(bar.date, unit=\"s\"),\n",
    "            [\"high\", \"low\", \"close\"]\n",
    "        ] = [bar.high, bar.low, bar.close]\n",
    "        df = df.astype(float)\n",
    "        self.data[reqId] = df\n",
    "        \n",
    "    @staticmethod                                                                                         \n",
    "    def get_contract(symbol: str) -> Contract:\n",
    "        contract = Contract()\n",
    "        contract.symbol = symbol\n",
    "        contract.secType = \"STK\"\n",
    "        contract.exchange = \"SMART\"\n",
    "        contract.currency = \"USD\"\n",
    "        return contract\n",
    "\n",
    "    def place_order(self, contract: Contract, action: str, order_type: str, quantity: int) -> None:\n",
    "        order = Order()\n",
    "        order.action = action\n",
    "        order.orderType = order_type\n",
    "        order.totalQuantity = quantity\n",
    "        self.placeOrder(self.nextOrderId, contract, order)\n",
    "        self.nextOrderId += 1\n",
    "        print(\"Order placed\")        "
   ]
  },
  {
   "cell_type": "code",
   "execution_count": 3,
   "id": "861ce112-bab4-40db-8a56-cad0c97fc11f",
   "metadata": {},
   "outputs": [],
   "source": [
    "app = TradingApp()\n"
   ]
  },
  {
   "cell_type": "code",
   "execution_count": 4,
   "id": "89db5f86-60a4-42c8-86fa-c2d771a34359",
   "metadata": {},
   "outputs": [],
   "source": [
    "app.connect(IB_IP,7497, clientId=1)\n"
   ]
  },
  {
   "cell_type": "code",
   "execution_count": 5,
   "id": "a245ca7b-6c80-4eaa-97ce-521540617198",
   "metadata": {},
   "outputs": [
    {
     "name": "stdout",
     "output_type": "stream",
     "text": [
      "Error: -1, 2104, Market data farm connection is OK:usfarm.nj\n",
      "Error: -1, 2104, Market data farm connection is OK:hfarm\n",
      "Error: -1, 2104, Market data farm connection is OK:jfarm\n",
      "Error: -1, 2104, Market data farm connection is OK:usfuture\n",
      "Error: -1, 2104, Market data farm connection is OK:cashfarm\n",
      "Error: -1, 2104, Market data farm connection is OK:eufarmnj\n",
      "Error: -1, 2104, Market data farm connection is OK:usfarm\n",
      "Error: -1, 2106, HMDS data farm connection is OK:euhmds\n",
      "Error: -1, 2106, HMDS data farm connection is OK:fundfarm\n",
      "Error: -1, 2106, HMDS data farm connection is OK:ushmds\n",
      "Error: -1, 2158, Sec-def data farm connection is OK:secdefnj\n"
     ]
    }
   ],
   "source": [
    "threading.Thread(target=app.run, daemon=True).start()\n"
   ]
  },
  {
   "cell_type": "code",
   "execution_count": 6,
   "id": "042788a5-0ea0-48ba-b588-2bac524ea5c9",
   "metadata": {},
   "outputs": [
    {
     "data": {
      "text/plain": [
       "Contract(secType='STK', symbol='NVDA', exchange='SMART', currency='USD')"
      ]
     },
     "execution_count": 6,
     "metadata": {},
     "output_type": "execute_result"
    }
   ],
   "source": [
    "\n",
    "nvda=TradingApp.get_contract(\"NVDA\")\n",
    "nvda\n"
   ]
  },
  {
   "cell_type": "code",
   "execution_count": 7,
   "id": "ce810262-b5cd-4246-bf0e-e14f8b64aab3",
   "metadata": {},
   "outputs": [
    {
     "data": {
      "text/html": [
       "<div>\n",
       "<style scoped>\n",
       "    .dataframe tbody tr th:only-of-type {\n",
       "        vertical-align: middle;\n",
       "    }\n",
       "\n",
       "    .dataframe tbody tr th {\n",
       "        vertical-align: top;\n",
       "    }\n",
       "\n",
       "    .dataframe thead th {\n",
       "        text-align: right;\n",
       "    }\n",
       "</style>\n",
       "<table border=\"1\" class=\"dataframe\">\n",
       "  <thead>\n",
       "    <tr style=\"text-align: right;\">\n",
       "      <th></th>\n",
       "      <th>high</th>\n",
       "      <th>low</th>\n",
       "      <th>close</th>\n",
       "    </tr>\n",
       "    <tr>\n",
       "      <th>time</th>\n",
       "      <th></th>\n",
       "      <th></th>\n",
       "      <th></th>\n",
       "    </tr>\n",
       "  </thead>\n",
       "  <tbody>\n",
       "    <tr>\n",
       "      <th>2025-05-14 08:00:00</th>\n",
       "      <td>132.56</td>\n",
       "      <td>131.97</td>\n",
       "      <td>132.38</td>\n",
       "    </tr>\n",
       "    <tr>\n",
       "      <th>2025-05-14 08:01:00</th>\n",
       "      <td>132.38</td>\n",
       "      <td>132.14</td>\n",
       "      <td>132.16</td>\n",
       "    </tr>\n",
       "    <tr>\n",
       "      <th>2025-05-14 08:02:00</th>\n",
       "      <td>132.25</td>\n",
       "      <td>132.02</td>\n",
       "      <td>132.02</td>\n",
       "    </tr>\n",
       "    <tr>\n",
       "      <th>2025-05-14 08:03:00</th>\n",
       "      <td>132.03</td>\n",
       "      <td>131.63</td>\n",
       "      <td>131.63</td>\n",
       "    </tr>\n",
       "    <tr>\n",
       "      <th>2025-05-14 08:04:00</th>\n",
       "      <td>132.00</td>\n",
       "      <td>131.63</td>\n",
       "      <td>131.97</td>\n",
       "    </tr>\n",
       "    <tr>\n",
       "      <th>...</th>\n",
       "      <td>...</td>\n",
       "      <td>...</td>\n",
       "      <td>...</td>\n",
       "    </tr>\n",
       "    <tr>\n",
       "      <th>2025-05-14 13:48:00</th>\n",
       "      <td>133.09</td>\n",
       "      <td>132.62</td>\n",
       "      <td>132.65</td>\n",
       "    </tr>\n",
       "    <tr>\n",
       "      <th>2025-05-14 13:49:00</th>\n",
       "      <td>133.18</td>\n",
       "      <td>132.41</td>\n",
       "      <td>133.16</td>\n",
       "    </tr>\n",
       "    <tr>\n",
       "      <th>2025-05-14 13:50:00</th>\n",
       "      <td>133.22</td>\n",
       "      <td>132.77</td>\n",
       "      <td>132.81</td>\n",
       "    </tr>\n",
       "    <tr>\n",
       "      <th>2025-05-14 13:51:00</th>\n",
       "      <td>133.14</td>\n",
       "      <td>132.68</td>\n",
       "      <td>133.09</td>\n",
       "    </tr>\n",
       "    <tr>\n",
       "      <th>2025-05-14 13:52:00</th>\n",
       "      <td>133.20</td>\n",
       "      <td>132.82</td>\n",
       "      <td>132.94</td>\n",
       "    </tr>\n",
       "  </tbody>\n",
       "</table>\n",
       "<p>353 rows × 3 columns</p>\n",
       "</div>"
      ],
      "text/plain": [
       "                       high     low   close\n",
       "time                                       \n",
       "2025-05-14 08:00:00  132.56  131.97  132.38\n",
       "2025-05-14 08:01:00  132.38  132.14  132.16\n",
       "2025-05-14 08:02:00  132.25  132.02  132.02\n",
       "2025-05-14 08:03:00  132.03  131.63  131.63\n",
       "2025-05-14 08:04:00  132.00  131.63  131.97\n",
       "...                     ...     ...     ...\n",
       "2025-05-14 13:48:00  133.09  132.62  132.65\n",
       "2025-05-14 13:49:00  133.18  132.41  133.16\n",
       "2025-05-14 13:50:00  133.22  132.77  132.81\n",
       "2025-05-14 13:51:00  133.14  132.68  133.09\n",
       "2025-05-14 13:52:00  133.20  132.82  132.94\n",
       "\n",
       "[353 rows x 3 columns]"
      ]
     },
     "execution_count": 7,
     "metadata": {},
     "output_type": "execute_result"
    }
   ],
   "source": [
    "data=app.get_historical_data(99,nvda)\n",
    "data"
   ]
  },
  {
   "cell_type": "code",
   "execution_count": 8,
   "id": "572df01c-c05f-40be-8fca-671ae4eabbdd",
   "metadata": {},
   "outputs": [
    {
     "data": {
      "text/plain": [
       "pandas.core.frame.DataFrame"
      ]
     },
     "execution_count": 8,
     "metadata": {},
     "output_type": "execute_result"
    }
   ],
   "source": [
    "type(data)"
   ]
  },
  {
   "cell_type": "code",
   "execution_count": null,
   "id": "7b110d23-c470-4a95-94cd-16671a42e81d",
   "metadata": {},
   "outputs": [],
   "source": []
  }
 ],
 "metadata": {
  "kernelspec": {
   "display_name": "Python 3 (ipykernel)",
   "language": "python",
   "name": "python3"
  },
  "language_info": {
   "codemirror_mode": {
    "name": "ipython",
    "version": 3
   },
   "file_extension": ".py",
   "mimetype": "text/x-python",
   "name": "python",
   "nbconvert_exporter": "python",
   "pygments_lexer": "ipython3",
   "version": "3.10.12"
  }
 },
 "nbformat": 4,
 "nbformat_minor": 5
}
